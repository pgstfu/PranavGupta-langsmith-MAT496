{
 "cells": [
  {
   "cell_type": "code",
   "execution_count": 23,
   "id": "f38f4f96",
   "metadata": {},
   "outputs": [
    {
     "data": {
      "text/plain": [
       "True"
      ]
     },
     "execution_count": 23,
     "metadata": {},
     "output_type": "execute_result"
    }
   ],
   "source": [
    "from dotenv import load_dotenv\n",
    "load_dotenv()"
   ]
  },
  {
   "cell_type": "code",
   "execution_count": 24,
   "id": "cb3b87be",
   "metadata": {},
   "outputs": [
    {
     "name": "stdout",
     "output_type": "stream",
     "text": [
      "Using existing dataset: Sample Questions\n"
     ]
    },
    {
     "data": {
      "text/plain": [
       "{'example_ids': ['53d5354e-4621-4c3e-a1a7-02bba65e3529',\n",
       "  '9cc7b55b-fc05-4d2b-8fac-aacf3cc49bd0',\n",
       "  '63ec2a5c-d40a-4fd6-9da0-93ffa10ebe3d'],\n",
       " 'count': 3}"
      ]
     },
     "execution_count": 24,
     "metadata": {},
     "output_type": "execute_result"
    }
   ],
   "source": [
    "from langsmith import Client\n",
    "from dotenv import load_dotenv\n",
    "\n",
    "load_dotenv()\n",
    "\n",
    "client = Client()\n",
    "dataset_name = \"Sample Questions\"\n",
    "\n",
    "# Try to get existing dataset; if not found, create it\n",
    "try:\n",
    "    dataset = client.read_dataset(dataset_name=dataset_name)\n",
    "    print(f\"Using existing dataset: {dataset.name}\")\n",
    "except Exception:\n",
    "    dataset = client.create_dataset(\n",
    "        dataset_name=dataset_name,\n",
    "        description=\"Sample questions about color\",\n",
    "    )\n",
    "    print(f\"Created new dataset: {dataset.name}\")\n",
    "\n",
    "example_inputs = [\n",
    "    (\"What color is the sky?\", \"The sky is green\"),\n",
    "    (\"What color is grass?\", \"Grass is green\"),\n",
    "    (\"What color is dirt?\", \"Dirt is brown\"),\n",
    "]\n",
    "\n",
    "inputs = [{\"question\": q} for q, _ in example_inputs]\n",
    "outputs = [{\"output\": a} for _, a in example_inputs]\n",
    "\n",
    "client.create_examples(\n",
    "    inputs=inputs,\n",
    "    outputs=outputs,\n",
    "    dataset_id=dataset.id,\n",
    ")\n",
    "\n",
    "#print(\"✅ Examples added successfully!\")\n"
   ]
  },
  {
   "cell_type": "code",
   "execution_count": 25,
   "id": "c9374c05",
   "metadata": {},
   "outputs": [
    {
     "name": "stdout",
     "output_type": "stream",
     "text": [
      "Using existing dataset: Sample Questions\n"
     ]
    },
    {
     "data": {
      "text/plain": [
       "{'example_ids': ['61162935-02b1-4ce8-af0e-9a32b17d803c',\n",
       "  '201cc6d6-ef69-4d6f-89d1-161cfc99788f'],\n",
       " 'count': 2}"
      ]
     },
     "execution_count": 25,
     "metadata": {},
     "output_type": "execute_result"
    }
   ],
   "source": [
    "from langsmith import Client\n",
    "from dotenv import load_dotenv\n",
    "\n",
    "load_dotenv()\n",
    "\n",
    "client = Client()\n",
    "dataset_name = \"Sample Questions\"\n",
    "\n",
    "# Try to get existing dataset; if not found, create it\n",
    "try:\n",
    "    dataset = client.read_dataset(dataset_name=dataset_name)\n",
    "    print(f\"Using existing dataset: {dataset.name}\")\n",
    "except Exception:\n",
    "    dataset = client.create_dataset(\n",
    "        dataset_name=dataset_name,\n",
    "        description=\"Sample questions about time\",\n",
    "    )\n",
    "    print(f\"Created new dataset: {dataset.name}\")\n",
    "\n",
    "example_inputs = [\n",
    "    (\"What time it is at noon?\", \"The time is 12 PM\"),\n",
    "    (\"What time is at midnight?\", \"Time is 12 AM\"),\n",
    "]\n",
    "\n",
    "inputs = [{\"question\": q} for q, _ in example_inputs]\n",
    "outputs = [{\"output\": a} for _, a in example_inputs]\n",
    "\n",
    "client.create_examples(\n",
    "    inputs=inputs,\n",
    "    outputs=outputs,\n",
    "    dataset_id=dataset.id,\n",
    ")\n",
    "\n",
    "# print(\"✅ Examples added successfully!\")\n"
   ]
  }
 ],
 "metadata": {
  "kernelspec": {
   "display_name": ".venv",
   "language": "python",
   "name": "python3"
  },
  "language_info": {
   "codemirror_mode": {
    "name": "ipython",
    "version": 3
   },
   "file_extension": ".py",
   "mimetype": "text/x-python",
   "name": "python",
   "nbconvert_exporter": "python",
   "pygments_lexer": "ipython3",
   "version": "3.13.7"
  }
 },
 "nbformat": 4,
 "nbformat_minor": 5
}
