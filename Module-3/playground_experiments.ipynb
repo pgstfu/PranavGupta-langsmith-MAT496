{
 "cells": [
  {
   "cell_type": "code",
   "execution_count": null,
   "id": "f38f4f96",
   "metadata": {},
   "outputs": [
    {
     "data": {
      "text/plain": [
       "True"
      ]
     },
     "execution_count": 19,
     "metadata": {},
     "output_type": "execute_result"
    }
   ],
   "source": [
    "from dotenv import load_dotenv\n",
    "load_dotenv()  # auto-detects .env in current or parent dirs"
   ]
  },
  {
   "cell_type": "code",
   "execution_count": 21,
   "id": "cb3b87be",
   "metadata": {},
   "outputs": [
    {
     "name": "stdout",
     "output_type": "stream",
     "text": [
      "Using existing dataset: Sample Questions\n"
     ]
    },
    {
     "data": {
      "text/plain": [
       "{'example_ids': ['dbe1e872-68ed-409a-9b9e-0cbda7b72fcf',\n",
       "  '2dc91a54-2f71-4f14-b563-01d4df3e30c7',\n",
       "  '107b1f8f-dd98-4d7c-9bd9-1bfdab64a296'],\n",
       " 'count': 3}"
      ]
     },
     "execution_count": 21,
     "metadata": {},
     "output_type": "execute_result"
    }
   ],
   "source": [
    "from langsmith import Client\n",
    "from dotenv import load_dotenv\n",
    "\n",
    "load_dotenv()\n",
    "\n",
    "client = Client()\n",
    "dataset_name = \"Sample Questions\"\n",
    "\n",
    "# Try to get existing dataset; if not found, create it\n",
    "try:\n",
    "    dataset = client.read_dataset(dataset_name=dataset_name)\n",
    "    print(f\"Using existing dataset: {dataset.name}\")\n",
    "except Exception:\n",
    "    dataset = client.create_dataset(\n",
    "        dataset_name=dataset_name,\n",
    "        description=\"Sample questions about color\",\n",
    "    )\n",
    "    print(f\"Created new dataset: {dataset.name}\")\n",
    "\n",
    "example_inputs = [\n",
    "    (\"What color is the sky?\", \"The sky is green\"),\n",
    "    (\"What color is grass?\", \"Grass is green\"),\n",
    "    (\"What color is dirt?\", \"Dirt is brown\"),\n",
    "]\n",
    "\n",
    "inputs = [{\"question\": q} for q, _ in example_inputs]\n",
    "outputs = [{\"output\": a} for _, a in example_inputs]\n",
    "\n",
    "client.create_examples(\n",
    "    inputs=inputs,\n",
    "    outputs=outputs,\n",
    "    dataset_id=dataset.id,\n",
    ")\n",
    "\n",
    "#print(\"✅ Examples added successfully!\")\n"
   ]
  },
  {
   "cell_type": "code",
   "execution_count": null,
   "id": "c9374c05",
   "metadata": {},
   "outputs": [
    {
     "name": "stdout",
     "output_type": "stream",
     "text": [
      "Using existing dataset: Sample Questions\n"
     ]
    },
    {
     "data": {
      "text/plain": [
       "{'example_ids': ['c39f61f6-f5aa-4b28-8f61-9ba0db182335',\n",
       "  '6248864a-05c2-4ade-b85b-a725a550a549'],\n",
       " 'count': 2}"
      ]
     },
     "execution_count": 22,
     "metadata": {},
     "output_type": "execute_result"
    }
   ],
   "source": [
    "from langsmith import Client\n",
    "from dotenv import load_dotenv\n",
    "\n",
    "load_dotenv()\n",
    "\n",
    "client = Client()\n",
    "dataset_name = \"Sample Questions\"\n",
    "\n",
    "# Try to get existing dataset; if not found, create it\n",
    "try:\n",
    "    dataset = client.read_dataset(dataset_name=dataset_name)\n",
    "    print(f\"Using existing dataset: {dataset.name}\")\n",
    "except Exception:\n",
    "    dataset = client.create_dataset(\n",
    "        dataset_name=dataset_name,\n",
    "        description=\"Sample questions about time\",\n",
    "    )\n",
    "    print(f\"Created new dataset: {dataset.name}\")\n",
    "\n",
    "example_inputs = [\n",
    "    (\"What time it is at noon?\", \"The time is 12 PM\"),\n",
    "    (\"What time is at midnight?\", \"Time is 12 AM\"),\n",
    "]\n",
    "\n",
    "inputs = [{\"question\": q} for q, _ in example_inputs]\n",
    "outputs = [{\"output\": a} for _, a in example_inputs]\n",
    "\n",
    "client.create_examples(\n",
    "    inputs=inputs,\n",
    "    outputs=outputs,\n",
    "    dataset_id=dataset.id,\n",
    ")\n",
    "\n",
    "# print(\"✅ Examples added successfully!\")\n"
   ]
  }
 ],
 "metadata": {
  "kernelspec": {
   "display_name": ".venv",
   "language": "python",
   "name": "python3"
  },
  "language_info": {
   "codemirror_mode": {
    "name": "ipython",
    "version": 3
   },
   "file_extension": ".py",
   "mimetype": "text/x-python",
   "name": "python",
   "nbconvert_exporter": "python",
   "pygments_lexer": "ipython3",
   "version": "3.13.7"
  }
 },
 "nbformat": 4,
 "nbformat_minor": 5
}
